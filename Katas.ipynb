{
 "cells": [
  {
   "cell_type": "code",
   "execution_count": null,
   "metadata": {},
   "outputs": [
    {
     "name": "stdout",
     "output_type": "stream",
     "text": [
      "{'E': 1, 's': 3, 't': 2, 'a': 3, 'm': 1, 'o': 1, 'd': 1, 'e': 1, 'p': 1, 'r': 1, 'c': 2, 'i': 1}\n"
     ]
    }
   ],
   "source": [
    "# Escribe una función que reciba una cadena de texto como parámetro y devuelva un diccionario con las frecuencias de cada letra en la cadena. Los espacios no deben ser considerados.\n",
    "def contar_fecuencia_letras(cadena):\n",
    "    frecuencia = {} #diccionario vacio\n",
    "    for letra in cadena:   #letra es cada caracter de la cadena\n",
    "        if letra != \" \":  #si la letra no es un espacio\n",
    "            frecuencia[letra] = frecuencia.get(letra,0) + 1\n",
    "    return frecuencia\n",
    "\n",
    "texto = \"Estamos de practicas\"\n",
    "resultado = contar_fecuencia_letras(texto)\n",
    "print(resultado)\n"
   ]
  },
  {
   "cell_type": "code",
   "execution_count": null,
   "metadata": {},
   "outputs": [
    {
     "name": "stdout",
     "output_type": "stream",
     "text": [
      "[2, 4, 6, 8, 10]\n"
     ]
    }
   ],
   "source": [
    "# Dada una lista de números, obtén una nueva lista con el doble de cada valor. Usa la función map()\n",
    "def doble(numero): \n",
    "    return numero * 2\n",
    "\n",
    "numeros = [1,2,3]   #lista de numeros\n",
    "resultado = list(map(doble,numeros)) #map aplica la funcion doble a cada elemento de la lista numeros\n",
    "print(resultado)"
   ]
  },
  {
   "cell_type": "code",
   "execution_count": 9,
   "metadata": {},
   "outputs": [
    {
     "name": "stdout",
     "output_type": "stream",
     "text": [
      "['gato', 'gato rojo', 'gato sin pelo']\n"
     ]
    }
   ],
   "source": [
    "#Escribe una función que tome una lista de palabras y una palabra objetivo como parámetros. La función debe devolver una lista con todas las palabras de la lista original que contengan la palabra objetivo.\n",
    "def contiene(lista, buscar):\n",
    "    return [palabra for palabra in lista if buscar in palabra]\n",
    "\n",
    "palabras = [\"gato\",\"perro\",\"gato rojo\",\"gato sin pelo\"]\n",
    "buscar = \"gato\"\n",
    "resultado = contiene(palabras,buscar)\n",
    "print(resultado)"
   ]
  },
  {
   "cell_type": "code",
   "execution_count": null,
   "metadata": {},
   "outputs": [
    {
     "name": "stdout",
     "output_type": "stream",
     "text": [
      "[-3, -3, -3]\n",
      "[3, 3, 3]\n"
     ]
    }
   ],
   "source": [
    "# Genera una función que calcule la diferencia entre los valores de dos listas. Usa la función map().\n",
    "def diferencia(a,b):\n",
    "    return a - b\n",
    "\n",
    "lista1 = [1,2,3]\n",
    "lista2 = [4,5,6]\n",
    "resultado = list(map(diferencia,lista1,lista2))\n",
    "resultado2 = list(map(diferencia,lista2,lista1))\n",
    "print(resultado)\n",
    "print(resultado2)"
   ]
  },
  {
   "cell_type": "code",
   "execution_count": 15,
   "metadata": {},
   "outputs": [
    {
     "name": "stdout",
     "output_type": "stream",
     "text": [
      "(6.0, 'aprobado')\n"
     ]
    }
   ],
   "source": [
    "# Escribe una función que tome una lista de números como parámetro y un valor opcional nota_aprobado, que por defecto es 5. La función debe calcular la media de los números en la lista y determinar si la media es mayor o igual que nota_aprobado. Si es así, el estado será \"aprobado\", de lo contrario, será \"suspenso\". La función debe devolver una tupla que contenga la media y el estado.\n",
    "def notas(notas,nota_aprobado=5):\n",
    "    media = sum(notas) / len(notas)\n",
    "    estado = \"aprobado\" if media >= nota_aprobado else \"suspenso\" #ternario en python\n",
    "    return (media,estado)\n",
    "\n",
    "mis_notas = [4,5,6,7,8]\n",
    "resultado = notas(mis_notas)\n",
    "print(resultado)"
   ]
  },
  {
   "cell_type": "code",
   "execution_count": 16,
   "metadata": {},
   "outputs": [
    {
     "name": "stdout",
     "output_type": "stream",
     "text": [
      "120\n"
     ]
    }
   ],
   "source": [
    "# Escribe una función que calcule el factorial de un número de manera recursiva.\n",
    "def factorial(n):\n",
    "    if n == 0:\n",
    "        return 1\n",
    "    return n * factorial(n-1)\n",
    "\n",
    "resultado = factorial(5)\n",
    "print(resultado)"
   ]
  },
  {
   "cell_type": "code",
   "execution_count": 19,
   "metadata": {},
   "outputs": [
    {
     "name": "stdout",
     "output_type": "stream",
     "text": [
      "['perro rabioso', 'gato naranja', 'serptiente verde venenosa']\n"
     ]
    }
   ],
   "source": [
    "# Genera una función que convierta una lista de tuplas a una lista de strings. Usa la función map().\n",
    "def convertir(tupla):\n",
    "    return \" \".join(tupla) #join convierte una lista de strings en un solo string y entre ellos un espacio\n",
    "\n",
    "tuplas = [(\"perro\",\"rabioso\"),(\"gato\",\"naranja\"),(\"serptiente\",\"verde\",\"venenosa\")]\n",
    "resultado = list(map(convertir,tuplas))\n",
    "print(resultado)"
   ]
  },
  {
   "cell_type": "code",
   "execution_count": null,
   "metadata": {},
   "outputs": [
    {
     "name": "stdout",
     "output_type": "stream",
     "text": [
      "La division es 0.0\n"
     ]
    }
   ],
   "source": [
    "# Escribe un programa que pida al usuario dos números e intente dividirlos. Si el usuario ingresa un valor no numérico o intenta dividir por cero, maneja esas excepciones de manera adecuada. Asegúrate de mostrar un mensaje indicando si la división fue exitosa o no.\n",
    "try:\n",
    "    numerador = int(input(\"Ingrese el numerador: \"))\n",
    "    denominador = int(input(\"Ingrese el denominador: \"))\n",
    "    resultado = numerador / denominador \n",
    "except ValueError: #si el valor ingresado no es un numero\n",
    "    print(\"No ingrese una cadena de texto\")\n",
    "except ZeroDivisionError: #si el denominador es cero\n",
    "    print(\"No se puede dividir por cero\")\n",
    "else: #si no hay excepciones\n",
    "    print(f\"La division es {resultado}\")\n"
   ]
  },
  {
   "cell_type": "code",
   "execution_count": null,
   "metadata": {},
   "outputs": [],
   "source": [
    "#Escribe una función que tome una lista de nombres de mascotas como parámetro y devuelva una nueva lista excluyendo ciertas mascotas prohibidas en España. La lista de mascotas a excluir es [\"Mapache\", \"Tigre\", \"Serpiente Pitón\", \"Cocodrilo\", \"Oso\"]. Usa la función filter().\n",
    "def permitido(mascota):\n",
    "    prohibido = [\"Mapache\", \"Tigre\", \"Serpiente Pitón\", \"Cocodrilo\", \"Oso\"]\n",
    "    return mascota not in prohibido #si la mascota no esta en la lista prohibido\n",
    "\n",
    "mascotas = [\"Perro\",\"Gato\",\"Mapache\",\"Tigre\",\"Capibara\"]\n",
    "resultado = list(filter(permitido,mascotas)) #filter aplica la funcion permitido a cada elemento de la lista mascotas\n",
    "print(resultado)\n"
   ]
  },
  {
   "cell_type": "code",
   "execution_count": 25,
   "metadata": {},
   "outputs": [
    {
     "name": "stdout",
     "output_type": "stream",
     "text": [
      "La lista no puede estar vacia\n",
      "6.0\n"
     ]
    }
   ],
   "source": [
    "# Escribe una función que reciba una lista de números y calcule su promedio. Si la lista está vacía, lanza una excepción personalizada y maneja el error adecuadamente.\n",
    "def promedio(numeros):\n",
    "    if len(numeros) == 0:\n",
    "        raise ValueError(\"La lista no puede estar vacia\") #lanza una excepcion\n",
    "    \n",
    "    return sum(numeros) / len(numeros)\n",
    "\n",
    "try:\n",
    "    resultado = promedio([]) #llama a la funcion promedio con una lista vacia\n",
    "except ValueError as e: #guarda el mensaje de la excepcion en e\n",
    "    print(e) #imprime el mensaje de la excepcion\n",
    "else:\n",
    "    print(resultado)\n",
    "\n",
    "mis_notas = [4,5,6,7,8]\n",
    "try:\n",
    "    resultado = promedio(mis_notas)\n",
    "except ValueError as e:\n",
    "    print(e)\n",
    "else:\n",
    "    print(resultado)\n"
   ]
  },
  {
   "cell_type": "code",
   "execution_count": 34,
   "metadata": {},
   "outputs": [
    {
     "name": "stdout",
     "output_type": "stream",
     "text": [
      "La edad debe estar entre 0 y 120\n"
     ]
    }
   ],
   "source": [
    "# Escribe un programa que pida al usuario que introduzca su edad. Si el usuario ingresa un valor no numérico o un valor fuera del rango esperado (por ejemplo, menor que 0 o mayor que 120), maneja las excepciones adecuadamente.\n",
    "try:\n",
    "    edad = int(input(\"Ingrese su edad: \"))\n",
    "    if edad < 0 or edad > 120:\n",
    "        raise ValueError(\"La edad debe estar entre 0 y 120\")\n",
    "except ValueError as e:  # Solo capturamos ValueError aquí\n",
    "    print(e)  # Muestra el mensaje de error (tanto de un mal número como de rango incorrecto)\n",
    "else:\n",
    "    print(f\"Su edad es {edad}\")\n"
   ]
  },
  {
   "cell_type": "code",
   "execution_count": null,
   "metadata": {},
   "outputs": [],
   "source": [
    "# Genera una función que al recibir una frase devuelva una lista con la longitud de cada palabra. Usa la función map().\n",
    "def longitud_palabras(frase):\n",
    "    return list(map(len,frase.split())) #split divide la cadena en palabras\n",
    "\n",
    "cadena = \"Estamos de practicas\"\n",
    "resultado = longitud_palabras(cadena)\n",
    "print(resultado)"
   ]
  },
  {
   "cell_type": "code",
   "execution_count": null,
   "metadata": {},
   "outputs": [
    {
     "name": "stdout",
     "output_type": "stream",
     "text": [
      "[('G', 'g'), ('T', 't'), ('O', 'o'), ('A', 'a')]\n"
     ]
    }
   ],
   "source": [
    "# Genera una función la cual, para un conjunto de caracteres, devuelva una lista de tuplas con cada letra en mayúsculas y minúsculas. Las letras no pueden estar repetidas. Usa la función map().\n",
    "def mayus_minus(caracteres):\n",
    "    return list(map(lambda x: (x.upper(),x.lower()),set(caracteres))) #set no permite elementos repetidos\n",
    "\n",
    "cadena = \"gato\"\n",
    "resultado = mayus_minus(cadena)\n",
    "print(resultado)"
   ]
  },
  {
   "cell_type": "code",
   "execution_count": null,
   "metadata": {},
   "outputs": [],
   "source": []
  }
 ],
 "metadata": {
  "kernelspec": {
   "display_name": "Python 3",
   "language": "python",
   "name": "python3"
  },
  "language_info": {
   "codemirror_mode": {
    "name": "ipython",
    "version": 3
   },
   "file_extension": ".py",
   "mimetype": "text/x-python",
   "name": "python",
   "nbconvert_exporter": "python",
   "pygments_lexer": "ipython3",
   "version": "3.13.2"
  }
 },
 "nbformat": 4,
 "nbformat_minor": 2
}
